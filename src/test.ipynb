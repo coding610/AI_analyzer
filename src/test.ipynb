{
 "cells": [
  {
   "cell_type": "code",
   "execution_count": 57,
   "metadata": {},
   "outputs": [],
   "source": [
    "%load_ext autoreload\n",
    "%autoreload 2"
   ]
  },
  {
   "cell_type": "code",
   "execution_count": 58,
   "metadata": {},
   "outputs": [],
   "source": [
    "from analyzer import *\n",
    "from sklearn.datasets import make_classification\n",
    "from sklearn.model_selection import train_test_split\n",
    "from sklearn.ensemble import RandomForestClassifier\n",
    "from sklearn.metrics import accuracy_score, confusion_matrix, ConfusionMatrixDisplay"
   ]
  },
  {
   "cell_type": "code",
   "execution_count": 147,
   "metadata": {},
   "outputs": [],
   "source": [
    "labels = [\"l1\", \"l2\"]\n",
    "X, y = make_classification(n_samples=1000, n_features=4, n_informative=2, n_redundant=0, random_state=0, shuffle=False)\n",
    "X_train, X_test, y_train, y_test = train_test_split(X, y, test_size=0.5, random_state=0)\n",
    "\n",
    "clf = RandomForestClassifier(max_depth=2, random_state=0)\n",
    "clf.fit(X_train, y_train)\n",
    "y_pred = clf.predict(X_test)"
   ]
  },
  {
   "cell_type": "code",
   "execution_count": 261,
   "metadata": {},
   "outputs": [],
   "source": [
    "analyzer = Analyzer(root_dir=\"..\")"
   ]
  },
  {
   "cell_type": "code",
   "execution_count": 269,
   "metadata": {},
   "outputs": [],
   "source": [
    "analyzer.model_overview(y_test, y_pred, labels, \"1.0\", plot_metrics=True, overwrite=True)"
   ]
  },
  {
   "cell_type": "code",
   "execution_count": 78,
   "metadata": {},
   "outputs": [],
   "source": [
    "analyzer.compare_models(\"1.0\", \"1.1\", overwrite=True)"
   ]
  },
  {
   "cell_type": "markdown",
   "metadata": {},
   "source": [
    "# Experementing Below"
   ]
  },
  {
   "cell_type": "code",
   "execution_count": 183,
   "metadata": {},
   "outputs": [
    {
     "name": "stdout",
     "output_type": "stream",
     "text": [
      "{'_private_method': <bound method MyClass._private_method of <__main__.MyClass object at 0x7e8a01996ed0>>, 'attribute1': 'value1', 'attribute2': 'value2', 'get_methods': <bound method MyClass.get_methods of <__main__.MyClass object at 0x7e8a01996ed0>>, 'method1': <bound method MyClass.method1 of <__main__.MyClass object at 0x7e8a01996ed0>>}\n"
     ]
    }
   ],
   "source": [
    "import inspect\n",
    "\n",
    "class MyClass:\n",
    "    # Class attributes\n",
    "    attribute1 = \"value1\"\n",
    "    attribute2 = \"value2\"\n",
    "\n",
    "    # Class methods\n",
    "    def method1(self):\n",
    "        pass\n",
    "\n",
    "    def _private_method(self):\n",
    "        pass\n",
    "\n",
    "    def get_methods(self):\n",
    "        print({name: value for name, value in inspect.getmembers(self) if not name.startswith('__')})\n",
    "\n",
    "m = MyClass();\n",
    "m.get_methods()"
   ]
  },
  {
   "cell_type": "code",
   "execution_count": 230,
   "metadata": {},
   "outputs": [
    {
     "name": "stdout",
     "output_type": "stream",
     "text": [
      "th\n",
      "is is h\n"
     ]
    }
   ],
   "source": [
    "string = \"this is h\"\n",
    "print(string[:2])\n",
    "print(string[2:])"
   ]
  }
 ],
 "metadata": {
  "kernelspec": {
   "display_name": "venv",
   "language": "python",
   "name": "python3"
  },
  "language_info": {
   "codemirror_mode": {
    "name": "ipython",
    "version": 3
   },
   "file_extension": ".py",
   "mimetype": "text/x-python",
   "name": "python",
   "nbconvert_exporter": "python",
   "pygments_lexer": "ipython3",
   "version": "3.11.8"
  }
 },
 "nbformat": 4,
 "nbformat_minor": 2
}
