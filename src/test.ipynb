{
 "cells": [
  {
   "cell_type": "code",
   "execution_count": 57,
   "metadata": {},
   "outputs": [],
   "source": [
    "%load_ext autoreload\n",
    "%autoreload 2"
   ]
  },
  {
   "cell_type": "code",
   "execution_count": 58,
   "metadata": {},
   "outputs": [],
   "source": [
    "from analyzer import *\n",
    "from sklearn.datasets import make_classification\n",
    "from sklearn.model_selection import train_test_split\n",
    "from sklearn.ensemble import RandomForestClassifier\n",
    "from sklearn.metrics import accuracy_score, confusion_matrix, ConfusionMatrixDisplay"
   ]
  },
  {
   "cell_type": "code",
   "execution_count": 147,
   "metadata": {},
   "outputs": [],
   "source": [
    "labels = [\"l1\", \"l2\"]\n",
    "X, y = make_classification(n_samples=1000, n_features=4, n_informative=2, n_redundant=0, random_state=0, shuffle=False)\n",
    "X_train, X_test, y_train, y_test = train_test_split(X, y, test_size=0.5, random_state=0)\n",
    "\n",
    "clf = RandomForestClassifier(max_depth=2, random_state=0)\n",
    "clf.fit(X_train, y_train)\n",
    "y_pred = clf.predict(X_test)"
   ]
  },
  {
   "cell_type": "code",
   "execution_count": 207,
   "metadata": {},
   "outputs": [],
   "source": [
    "analyzer = Analyzer(root_dir=\"..\")"
   ]
  },
  {
   "cell_type": "code",
   "execution_count": 228,
   "metadata": {},
   "outputs": [
    {
     "name": "stdout",
     "output_type": "stream",
     "text": [
      "{\n",
      "    \"MODEL_NAME\": \"1.0\",\n",
      "    \"ROOT_DIR\": \"../..\",\n",
      "    \"STABLE_ROOT_DIR\": \"/home/sixtenbohman/dev/python/AI_analyzer\",\n",
      "    \"_Analyzer__check_validility\": \"<function Analyzer.__check_validility at 0x7e8a0057c5e0>\",\n",
      "    \"_Analyzer__dump_json\": \"<function Analyzer.__dump_json at 0x7e8a0057c720>\",\n",
      "    \"_Analyzer__get_current_data\": \"<function Analyzer.__get_current_data at 0x7e8a0057c9a0>\",\n",
      "    \"_Analyzer__write_confusion_matrix\": \"<function Analyzer.__write_confusion_matrix at 0x7e8a0057c4a0>\",\n",
      "    \"_Analyzer__write_scores\": \"<function Analyzer.__write_scores at 0x7e8a0057c860>\",\n",
      "    \"__class__\": \"<attribute '__class__' of 'object' objects>\",\n",
      "    \"__delattr__\": \"<slot wrapper '__delattr__' of 'object' objects>\",\n",
      "    \"__dict__\": \"<attribute '__dict__' of 'Analyzer' objects>\",\n",
      "    \"__dir__\": \"<method '__dir__' of 'object' objects>\",\n",
      "    \"__doc__\": null,\n",
      "    \"__eq__\": \"<slot wrapper '__eq__' of 'object' objects>\",\n",
      "    \"__format__\": \"<method '__format__' of 'object' objects>\",\n",
      "    \"__ge__\": \"<slot wrapper '__ge__' of 'object' objects>\",\n",
      "    \"__getattribute__\": \"<slot wrapper '__getattribute__' of 'object' objects>\",\n",
      "    \"__getstate__\": \"<method '__getstate__' of 'object' objects>\",\n",
      "    \"__gt__\": \"<slot wrapper '__gt__' of 'object' objects>\",\n",
      "    \"__hash__\": \"<slot wrapper '__hash__' of 'object' objects>\",\n",
      "    \"__init__\": \"<function Analyzer.__init__ at 0x7e8a0057c040>\",\n",
      "    \"__init_subclass__\": \"<method '__init_subclass__' of 'object' objects>\",\n",
      "    \"__le__\": \"<slot wrapper '__le__' of 'object' objects>\",\n",
      "    \"__lt__\": \"<slot wrapper '__lt__' of 'object' objects>\",\n",
      "    \"__module__\": \"analyzer\",\n",
      "    \"__ne__\": \"<slot wrapper '__ne__' of 'object' objects>\",\n",
      "    \"__new__\": \"<built-in method __new__ of type object at 0x7e8a578db240>\",\n",
      "    \"__reduce__\": \"<method '__reduce__' of 'object' objects>\",\n",
      "    \"__reduce_ex__\": \"<method '__reduce_ex__' of 'object' objects>\",\n",
      "    \"__repr__\": \"<slot wrapper '__repr__' of 'object' objects>\",\n",
      "    \"__setattr__\": \"<slot wrapper '__setattr__' of 'object' objects>\",\n",
      "    \"__sizeof__\": \"<method '__sizeof__' of 'object' objects>\",\n",
      "    \"__str__\": \"<slot wrapper '__str__' of 'object' objects>\",\n",
      "    \"__subclasshook__\": \"<method '__subclasshook__' of 'object' objects>\",\n",
      "    \"__weakref__\": \"<attribute '__weakref__' of 'Analyzer' objects>\",\n",
      "    \"compare_models\": \"<function Analyzer.compare_models at 0x7e8a0057c2c0>\",\n",
      "    \"model_overview\": \"<function Analyzer.model_overview at 0x7e8a0057c360>\",\n",
      "    \"self\": \"<analyzer.Analyzer object at 0x7e8a00942b90>\"\n",
      "}\n",
      "self.MO\n",
      "AAAAAAAAAAAAAAAAAAAAAAAAAAAAAA\n"
     ]
    },
    {
     "ename": "AttributeError",
     "evalue": "'Analyzer' object has no attribute '__get_current_data'",
     "output_type": "error",
     "traceback": [
      "\u001b[0;31m---------------------------------------------------------------------------\u001b[0m",
      "\u001b[0;31mAttributeError\u001b[0m                            Traceback (most recent call last)",
      "Cell \u001b[0;32mIn[228], line 1\u001b[0m\n\u001b[0;32m----> 1\u001b[0m \u001b[43manalyzer\u001b[49m\u001b[38;5;241;43m.\u001b[39;49m\u001b[43mmodel_overview\u001b[49m\u001b[43m(\u001b[49m\u001b[43my_test\u001b[49m\u001b[43m,\u001b[49m\u001b[43m \u001b[49m\u001b[43my_pred\u001b[49m\u001b[43m,\u001b[49m\u001b[43m \u001b[49m\u001b[43mlabels\u001b[49m\u001b[43m,\u001b[49m\u001b[43m \u001b[49m\u001b[38;5;124;43m\"\u001b[39;49m\u001b[38;5;124;43m1.0\u001b[39;49m\u001b[38;5;124;43m\"\u001b[39;49m\u001b[43m,\u001b[49m\u001b[43m \u001b[49m\u001b[43mplot_metrics\u001b[49m\u001b[38;5;241;43m=\u001b[39;49m\u001b[38;5;28;43;01mFalse\u001b[39;49;00m\u001b[43m,\u001b[49m\u001b[43m \u001b[49m\u001b[43moverwrite\u001b[49m\u001b[38;5;241;43m=\u001b[39;49m\u001b[38;5;28;43;01mTrue\u001b[39;49;00m\u001b[43m)\u001b[49m\n",
      "File \u001b[0;32m~/dev/python/AI_analyzer/src/analyzer.py:66\u001b[0m, in \u001b[0;36mAnalyzer.model_overview\u001b[0;34m(self, y_true, y_pred, labels, model_name, plot_metrics, include_scores, include_confusion_matrix, overwrite)\u001b[0m\n\u001b[1;32m     59\u001b[0m \u001b[38;5;28mself\u001b[39m\u001b[38;5;241m.\u001b[39mROOT_DIR \u001b[38;5;241m=\u001b[39m os\u001b[38;5;241m.\u001b[39mpath\u001b[38;5;241m.\u001b[39mrelpath(\u001b[38;5;28mself\u001b[39m\u001b[38;5;241m.\u001b[39mSTABLE_ROOT_DIR, \u001b[38;5;124mf\u001b[39m\u001b[38;5;124m\"\u001b[39m\u001b[38;5;132;01m{\u001b[39;00m\u001b[38;5;28mself\u001b[39m\u001b[38;5;241m.\u001b[39mSTABLE_ROOT_DIR\u001b[38;5;132;01m}\u001b[39;00m\u001b[38;5;124m/.AI_analyzer/\u001b[39m\u001b[38;5;132;01m{\u001b[39;00m\u001b[38;5;28mself\u001b[39m\u001b[38;5;241m.\u001b[39mMODEL_NAME\u001b[38;5;132;01m}\u001b[39;00m\u001b[38;5;124m\"\u001b[39m)\n\u001b[1;32m     60\u001b[0m connection \u001b[38;5;241m=\u001b[39m connectMD\u001b[38;5;241m.\u001b[39mMDConnection(\n\u001b[1;32m     61\u001b[0m     target_class\u001b[38;5;241m=\u001b[39m\u001b[38;5;28mself\u001b[39m,\n\u001b[1;32m     62\u001b[0m     target_members\u001b[38;5;241m=\u001b[39mconnectMD\u001b[38;5;241m.\u001b[39mgetmembers(\u001b[38;5;28mself\u001b[39m),\n\u001b[1;32m     63\u001b[0m     read_file\u001b[38;5;241m=\u001b[39m\u001b[38;5;124mf\u001b[39m\u001b[38;5;124m\"\u001b[39m\u001b[38;5;132;01m{\u001b[39;00m\u001b[38;5;28mself\u001b[39m\u001b[38;5;241m.\u001b[39mSTABLE_ROOT_DIR\u001b[38;5;132;01m}\u001b[39;00m\u001b[38;5;124m/templates/overview.md\u001b[39m\u001b[38;5;124m\"\u001b[39m,\n\u001b[1;32m     64\u001b[0m     write_file\u001b[38;5;241m=\u001b[39m\u001b[38;5;124mf\u001b[39m\u001b[38;5;124m\"\u001b[39m\u001b[38;5;132;01m{\u001b[39;00m\u001b[38;5;28mself\u001b[39m\u001b[38;5;241m.\u001b[39mSTABLE_ROOT_DIR\u001b[38;5;132;01m}\u001b[39;00m\u001b[38;5;124m/.AI_analyzer/\u001b[39m\u001b[38;5;132;01m{\u001b[39;00m\u001b[38;5;28mself\u001b[39m\u001b[38;5;241m.\u001b[39mMODEL_NAME\u001b[38;5;132;01m}\u001b[39;00m\u001b[38;5;124m/result.md\u001b[39m\u001b[38;5;124m\"\u001b[39m\n\u001b[1;32m     65\u001b[0m )\n\u001b[0;32m---> 66\u001b[0m \u001b[43mconnection\u001b[49m\u001b[38;5;241;43m.\u001b[39;49m\u001b[43mconnect\u001b[49m\u001b[43m(\u001b[49m\u001b[43m)\u001b[49m\n\u001b[1;32m     67\u001b[0m \u001b[38;5;28mself\u001b[39m\u001b[38;5;241m.\u001b[39mROOT_DIR \u001b[38;5;241m=\u001b[39m copy\u001b[38;5;241m.\u001b[39mdeepcopy(\u001b[38;5;28mself\u001b[39m\u001b[38;5;241m.\u001b[39mSTABLE_ROOT_DIR)\n",
      "File \u001b[0;32m~/dev/python/AI_analyzer/src/connectMD.py:21\u001b[0m, in \u001b[0;36mMDConnection.connect\u001b[0;34m(self)\u001b[0m\n\u001b[1;32m     18\u001b[0m     contents \u001b[38;5;241m=\u001b[39m f\u001b[38;5;241m.\u001b[39mread()\n\u001b[1;32m     20\u001b[0m \u001b[38;5;28;01mwith\u001b[39;00m \u001b[38;5;28mopen\u001b[39m(\u001b[38;5;28mself\u001b[39m\u001b[38;5;241m.\u001b[39mwrite_file, \u001b[38;5;124m\"\u001b[39m\u001b[38;5;124mw\u001b[39m\u001b[38;5;124m\"\u001b[39m) \u001b[38;5;28;01mas\u001b[39;00m f:\n\u001b[0;32m---> 21\u001b[0m     f\u001b[38;5;241m.\u001b[39mwrite(\u001b[38;5;28;43mself\u001b[39;49m\u001b[38;5;241;43m.\u001b[39;49m\u001b[43m__replace_expressions\u001b[49m\u001b[43m(\u001b[49m\u001b[43mcontents\u001b[49m\u001b[43m)\u001b[49m)\n",
      "File \u001b[0;32m~/dev/python/AI_analyzer/src/connectMD.py:24\u001b[0m, in \u001b[0;36mMDConnection.__replace_expressions\u001b[0;34m(self, contents)\u001b[0m\n\u001b[1;32m     23\u001b[0m \u001b[38;5;28;01mdef\u001b[39;00m \u001b[38;5;21m__replace_expressions\u001b[39m(\u001b[38;5;28mself\u001b[39m, contents: \u001b[38;5;28mstr\u001b[39m) \u001b[38;5;241m-\u001b[39m\u001b[38;5;241m>\u001b[39m \u001b[38;5;28mstr\u001b[39m:\n\u001b[0;32m---> 24\u001b[0m     \u001b[38;5;28;01mreturn\u001b[39;00m \u001b[43mre\u001b[49m\u001b[38;5;241;43m.\u001b[39;49m\u001b[43msub\u001b[49m\u001b[43m(\u001b[49m\n\u001b[1;32m     25\u001b[0m \u001b[43m        \u001b[49m\u001b[38;5;124;43mr\u001b[39;49m\u001b[38;5;124;43m'\u001b[39;49m\u001b[38;5;124;43m\\\u001b[39;49m\u001b[38;5;124;43m{\u001b[39;49m\u001b[38;5;124;43m\\\u001b[39;49m\u001b[38;5;124;43m{\u001b[39;49m\u001b[38;5;124;43m(.*?)\u001b[39;49m\u001b[38;5;124;43m\\\u001b[39;49m\u001b[38;5;124;43m}\u001b[39;49m\u001b[38;5;124;43m\\\u001b[39;49m\u001b[38;5;124;43m}\u001b[39;49m\u001b[38;5;124;43m'\u001b[39;49m\u001b[43m,\u001b[49m\n\u001b[1;32m     26\u001b[0m \u001b[43m        \u001b[49m\u001b[38;5;28;43;01mlambda\u001b[39;49;00m\u001b[43m \u001b[49m\u001b[43mmatch\u001b[49m\u001b[43m:\u001b[49m\u001b[43m \u001b[49m\u001b[38;5;28;43mself\u001b[39;49m\u001b[38;5;241;43m.\u001b[39;49m\u001b[43m__evaluate_expression\u001b[49m\u001b[43m(\u001b[49m\u001b[43mmatch\u001b[49m\u001b[43m)\u001b[49m\u001b[43m,\u001b[49m\n\u001b[1;32m     27\u001b[0m \u001b[43m        \u001b[49m\u001b[43mcontents\u001b[49m\n\u001b[1;32m     28\u001b[0m \u001b[43m    \u001b[49m\u001b[43m)\u001b[49m\n",
      "File \u001b[0;32m/usr/lib/python3.11/re/__init__.py:185\u001b[0m, in \u001b[0;36msub\u001b[0;34m(pattern, repl, string, count, flags)\u001b[0m\n\u001b[1;32m    178\u001b[0m \u001b[38;5;28;01mdef\u001b[39;00m \u001b[38;5;21msub\u001b[39m(pattern, repl, string, count\u001b[38;5;241m=\u001b[39m\u001b[38;5;241m0\u001b[39m, flags\u001b[38;5;241m=\u001b[39m\u001b[38;5;241m0\u001b[39m):\n\u001b[1;32m    179\u001b[0m \u001b[38;5;250m    \u001b[39m\u001b[38;5;124;03m\"\"\"Return the string obtained by replacing the leftmost\u001b[39;00m\n\u001b[1;32m    180\u001b[0m \u001b[38;5;124;03m    non-overlapping occurrences of the pattern in string by the\u001b[39;00m\n\u001b[1;32m    181\u001b[0m \u001b[38;5;124;03m    replacement repl.  repl can be either a string or a callable;\u001b[39;00m\n\u001b[1;32m    182\u001b[0m \u001b[38;5;124;03m    if a string, backslash escapes in it are processed.  If it is\u001b[39;00m\n\u001b[1;32m    183\u001b[0m \u001b[38;5;124;03m    a callable, it's passed the Match object and must return\u001b[39;00m\n\u001b[1;32m    184\u001b[0m \u001b[38;5;124;03m    a replacement string to be used.\"\"\"\u001b[39;00m\n\u001b[0;32m--> 185\u001b[0m     \u001b[38;5;28;01mreturn\u001b[39;00m \u001b[43m_compile\u001b[49m\u001b[43m(\u001b[49m\u001b[43mpattern\u001b[49m\u001b[43m,\u001b[49m\u001b[43m \u001b[49m\u001b[43mflags\u001b[49m\u001b[43m)\u001b[49m\u001b[38;5;241;43m.\u001b[39;49m\u001b[43msub\u001b[49m\u001b[43m(\u001b[49m\u001b[43mrepl\u001b[49m\u001b[43m,\u001b[49m\u001b[43m \u001b[49m\u001b[43mstring\u001b[49m\u001b[43m,\u001b[49m\u001b[43m \u001b[49m\u001b[43mcount\u001b[49m\u001b[43m)\u001b[49m\n",
      "File \u001b[0;32m~/dev/python/AI_analyzer/src/connectMD.py:26\u001b[0m, in \u001b[0;36mMDConnection.__replace_expressions.<locals>.<lambda>\u001b[0;34m(match)\u001b[0m\n\u001b[1;32m     23\u001b[0m \u001b[38;5;28;01mdef\u001b[39;00m \u001b[38;5;21m__replace_expressions\u001b[39m(\u001b[38;5;28mself\u001b[39m, contents: \u001b[38;5;28mstr\u001b[39m) \u001b[38;5;241m-\u001b[39m\u001b[38;5;241m>\u001b[39m \u001b[38;5;28mstr\u001b[39m:\n\u001b[1;32m     24\u001b[0m     \u001b[38;5;28;01mreturn\u001b[39;00m re\u001b[38;5;241m.\u001b[39msub(\n\u001b[1;32m     25\u001b[0m         \u001b[38;5;124mr\u001b[39m\u001b[38;5;124m'\u001b[39m\u001b[38;5;124m\\\u001b[39m\u001b[38;5;124m{\u001b[39m\u001b[38;5;124m\\\u001b[39m\u001b[38;5;124m{\u001b[39m\u001b[38;5;124m(.*?)\u001b[39m\u001b[38;5;124m\\\u001b[39m\u001b[38;5;124m}\u001b[39m\u001b[38;5;124m\\\u001b[39m\u001b[38;5;124m}\u001b[39m\u001b[38;5;124m'\u001b[39m,\n\u001b[0;32m---> 26\u001b[0m         \u001b[38;5;28;01mlambda\u001b[39;00m match: \u001b[38;5;28;43mself\u001b[39;49m\u001b[38;5;241;43m.\u001b[39;49m\u001b[43m__evaluate_expression\u001b[49m\u001b[43m(\u001b[49m\u001b[43mmatch\u001b[49m\u001b[43m)\u001b[49m,\n\u001b[1;32m     27\u001b[0m         contents\n\u001b[1;32m     28\u001b[0m     )\n",
      "File \u001b[0;32m~/dev/python/AI_analyzer/src/connectMD.py:36\u001b[0m, in \u001b[0;36mMDConnection.__evaluate_expression\u001b[0;34m(self, match)\u001b[0m\n\u001b[1;32m     34\u001b[0m \u001b[38;5;28;01melse\u001b[39;00m:\n\u001b[1;32m     35\u001b[0m     \u001b[38;5;28mprint\u001b[39m(expr[:\u001b[38;5;241m7\u001b[39m])\n\u001b[0;32m---> 36\u001b[0m \u001b[38;5;28;01mreturn\u001b[39;00m \u001b[38;5;28;43meval\u001b[39;49m\u001b[43m(\u001b[49m\u001b[43mexpr\u001b[49m\u001b[43m,\u001b[49m\u001b[43m \u001b[49m\u001b[38;5;28;43mself\u001b[39;49m\u001b[38;5;241;43m.\u001b[39;49m\u001b[43mtarget_members\u001b[49m\u001b[43m)\u001b[49m\n",
      "File \u001b[0;32m<string>:1\u001b[0m\n",
      "\u001b[0;31mAttributeError\u001b[0m: 'Analyzer' object has no attribute '__get_current_data'"
     ]
    }
   ],
   "source": [
    "analyzer.model_overview(y_test, y_pred, labels, \"1.0\", plot_metrics=False, overwrite=True)"
   ]
  },
  {
   "cell_type": "code",
   "execution_count": 78,
   "metadata": {},
   "outputs": [],
   "source": [
    "analyzer.compare_models(\"1.0\", \"1.1\", overwrite=True)"
   ]
  },
  {
   "cell_type": "markdown",
   "metadata": {},
   "source": [
    "# Experementing Below"
   ]
  },
  {
   "cell_type": "code",
   "execution_count": 183,
   "metadata": {},
   "outputs": [
    {
     "name": "stdout",
     "output_type": "stream",
     "text": [
      "{'_private_method': <bound method MyClass._private_method of <__main__.MyClass object at 0x7e8a01996ed0>>, 'attribute1': 'value1', 'attribute2': 'value2', 'get_methods': <bound method MyClass.get_methods of <__main__.MyClass object at 0x7e8a01996ed0>>, 'method1': <bound method MyClass.method1 of <__main__.MyClass object at 0x7e8a01996ed0>>}\n"
     ]
    }
   ],
   "source": [
    "import inspect\n",
    "\n",
    "class MyClass:\n",
    "    # Class attributes\n",
    "    attribute1 = \"value1\"\n",
    "    attribute2 = \"value2\"\n",
    "\n",
    "    # Class methods\n",
    "    def method1(self):\n",
    "        pass\n",
    "\n",
    "    def _private_method(self):\n",
    "        pass\n",
    "\n",
    "    def get_methods(self):\n",
    "        print({name: value for name, value in inspect.getmembers(self) if not name.startswith('__')})\n",
    "\n",
    "m = MyClass();\n",
    "m.get_methods()"
   ]
  },
  {
   "cell_type": "code",
   "execution_count": 221,
   "metadata": {},
   "outputs": [
    {
     "name": "stdout",
     "output_type": "stream",
     "text": [
      "th\n"
     ]
    }
   ],
   "source": [
    "string = \"this is h\"\n",
    "print(string[:2])\n",
    "print(string[2:])"
   ]
  }
 ],
 "metadata": {
  "kernelspec": {
   "display_name": "venv",
   "language": "python",
   "name": "python3"
  },
  "language_info": {
   "codemirror_mode": {
    "name": "ipython",
    "version": 3
   },
   "file_extension": ".py",
   "mimetype": "text/x-python",
   "name": "python",
   "nbconvert_exporter": "python",
   "pygments_lexer": "ipython3",
   "version": "3.11.8"
  }
 },
 "nbformat": 4,
 "nbformat_minor": 2
}
