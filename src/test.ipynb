{
 "cells": [
  {
   "cell_type": "code",
   "execution_count": 1,
   "metadata": {},
   "outputs": [],
   "source": [
    "%load_ext autoreload\n",
    "%autoreload 2"
   ]
  },
  {
   "cell_type": "code",
   "execution_count": 2,
   "metadata": {},
   "outputs": [],
   "source": [
    "from analyzer import *\n",
    "from sklearn.datasets import make_classification\n",
    "from sklearn.model_selection import train_test_split\n",
    "from sklearn.ensemble import RandomForestClassifier\n",
    "from sklearn.metrics import accuracy_score, confusion_matrix, ConfusionMatrixDisplay"
   ]
  },
  {
   "cell_type": "code",
   "execution_count": 3,
   "metadata": {},
   "outputs": [],
   "source": [
    "labels = [\"l1\", \"l2\"]\n",
    "X, y = make_classification(n_samples=1000, n_features=4, n_informative=2, n_redundant=0, random_state=0, shuffle=False)\n",
    "X_train, X_test, y_train, y_test = train_test_split(X, y, test_size=0.5, random_state=0)\n",
    "\n",
    "clf = RandomForestClassifier(max_depth=2, random_state=0)\n",
    "clf.fit(X_train, y_train)\n",
    "y_pred = clf.predict(X_test)"
   ]
  },
  {
   "cell_type": "code",
   "execution_count": 4,
   "metadata": {},
   "outputs": [],
   "source": [
    "analyzer = Analyzer(root_dir=\"..\")"
   ]
  },
  {
   "cell_type": "code",
   "execution_count": 75,
   "metadata": {},
   "outputs": [],
   "source": [
    "analyzer.model_overview(y_test, y_pred, labels, \"1.0\", plot_metrics=False, overwrite=True)"
   ]
  },
  {
   "cell_type": "code",
   "execution_count": 6,
   "metadata": {},
   "outputs": [],
   "source": [
    "analyzer.compare_models(\"1.0\", \"1.1\", overwrite=True)"
   ]
  },
  {
   "cell_type": "markdown",
   "metadata": {},
   "source": [
    "# Experementing Below"
   ]
  },
  {
   "cell_type": "code",
   "execution_count": 12,
   "metadata": {},
   "outputs": [],
   "source": [
    "from typing import Optional\n",
    "import re\n",
    "\n",
    "def extract_key(string: str, pattern: str) -> Optional[str]:\n",
    "    match = re.match(pattern.replace(\"<<key>>\", \"(.+)\"), string)\n",
    "    if match: return match.group(1)\n"
   ]
  },
  {
   "cell_type": "code",
   "execution_count": 17,
   "metadata": {},
   "outputs": [
    {
     "name": "stdout",
     "output_type": "stream",
     "text": [
      "None\n"
     ]
    }
   ],
   "source": [
    "pattern = r\"{<<key>>}\"\n",
    "input = \"mydict{my_key}\"\n",
    "print(extract_key(input, pattern))"
   ]
  },
  {
   "cell_type": "code",
   "execution_count": 52,
   "metadata": {},
   "outputs": [
    {
     "name": "stdout",
     "output_type": "stream",
     "text": [
      "['key1']\n"
     ]
    }
   ],
   "source": [
    "import re\n",
    "from typing import Optional\n",
    "\n",
    "def extract_nested_keys(string: str, pattern: str=r'\\{data(\\[\"[^\"]+\"\\])+\\}') -> Optional[list[str]]:\n",
    "    match = re.search(pattern, string)\n",
    "    if match:\n",
    "        keys = re.findall(r'\\[\"([^\"]+)\"\\]', match.group(0))\n",
    "        return keys\n",
    "\n",
    "string = 'This is a test string with {data[\"key1\"][\"key2\"][\"key3\"][\"key4\"]} inside.'\n",
    "keys = extract_nested_keys(string)\n",
    "print(keys)"
   ]
  },
  {
   "cell_type": "code",
   "execution_count": 53,
   "metadata": {},
   "outputs": [
    {
     "name": "stdout",
     "output_type": "stream",
     "text": [
      "\n",
      "Accuracy    : 0.95\n",
      "Precision   : 0.9\n",
      "Recall      : 0.85\n",
      "F1-Score    : 0.88\n",
      "\n"
     ]
    }
   ],
   "source": [
    "import re\n",
    "\n",
    "# Example data dictionary\n",
    "data = {\n",
    "    \"scores\": {\n",
    "        \"accuracy\": 0.95,\n",
    "        \"precision\": 0.90,\n",
    "        \"recall\": 0.85,\n",
    "        \"f1-score\": 0.88\n",
    "    }\n",
    "}\n",
    "\n",
    "# Your input string\n",
    "input_string = \"\"\"\n",
    "Accuracy    : {data[\"scores\"][\"accuracy\"]}\n",
    "Precision   : {data[\"scores\"][\"precision\"]}\n",
    "Recall      : {data[\"scores\"][\"recall\"]}\n",
    "F1-Score    : {data[\"scores\"][\"f1-score\"]}\n",
    "\"\"\"\n",
    "\n",
    "# Regular expression to match placeholders\n",
    "pattern = r'\\{data\\[\"([^\"]+)\"\\]\\[\"([^\"]+)\"\\]\\}'\n",
    "\n",
    "# Function to replace placeholders with values from the data dictionary\n",
    "def replace_placeholders(match):\n",
    "    keys = match.groups()\n",
    "    value = data\n",
    "    for key in keys:\n",
    "        value = value.get(key, '')\n",
    "    return str(value)\n",
    "\n",
    "# Replace placeholders in the input string\n",
    "output_string = re.sub(pattern, replace_placeholders, input_string)\n",
    "\n",
    "print(output_string)"
   ]
  }
 ],
 "metadata": {
  "kernelspec": {
   "display_name": "venv",
   "language": "python",
   "name": "python3"
  },
  "language_info": {
   "codemirror_mode": {
    "name": "ipython",
    "version": 3
   },
   "file_extension": ".py",
   "mimetype": "text/x-python",
   "name": "python",
   "nbconvert_exporter": "python",
   "pygments_lexer": "ipython3",
   "version": "3.11.8"
  }
 },
 "nbformat": 4,
 "nbformat_minor": 2
}
